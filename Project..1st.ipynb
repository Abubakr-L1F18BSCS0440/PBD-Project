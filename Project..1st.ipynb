{
 "cells": [
  {
   "cell_type": "code",
   "execution_count": 2,
   "metadata": {},
   "outputs": [],
   "source": [
    "import pandas as pd\n",
    "import numpy as np\n",
    "df=pd.read_csv('TA_restaurants_curated.csv')"
   ]
  },
  {
   "cell_type": "code",
   "execution_count": 3,
   "metadata": {},
   "outputs": [
    {
     "data": {
      "text/html": [
       "<div>\n",
       "<style scoped>\n",
       "    .dataframe tbody tr th:only-of-type {\n",
       "        vertical-align: middle;\n",
       "    }\n",
       "\n",
       "    .dataframe tbody tr th {\n",
       "        vertical-align: top;\n",
       "    }\n",
       "\n",
       "    .dataframe thead th {\n",
       "        text-align: right;\n",
       "    }\n",
       "</style>\n",
       "<table border=\"1\" class=\"dataframe\">\n",
       "  <thead>\n",
       "    <tr style=\"text-align: right;\">\n",
       "      <th></th>\n",
       "      <th>Unnamed: 0</th>\n",
       "      <th>Name</th>\n",
       "      <th>City</th>\n",
       "      <th>Cuisine Style</th>\n",
       "      <th>Ranking</th>\n",
       "      <th>Rating</th>\n",
       "      <th>Price Range</th>\n",
       "      <th>Number of Reviews</th>\n",
       "      <th>Reviews</th>\n",
       "      <th>URL_TA</th>\n",
       "      <th>ID_TA</th>\n",
       "    </tr>\n",
       "  </thead>\n",
       "  <tbody>\n",
       "    <tr>\n",
       "      <th>0</th>\n",
       "      <td>0</td>\n",
       "      <td>Martine of Martine's Table</td>\n",
       "      <td>Amsterdam</td>\n",
       "      <td>['French', 'Dutch', 'European']</td>\n",
       "      <td>1.0</td>\n",
       "      <td>5.0</td>\n",
       "      <td>$$ - $$$</td>\n",
       "      <td>136.0</td>\n",
       "      <td>[['Just like home', 'A Warm Welcome to Wintry ...</td>\n",
       "      <td>/Restaurant_Review-g188590-d11752080-Reviews-M...</td>\n",
       "      <td>d11752080</td>\n",
       "    </tr>\n",
       "    <tr>\n",
       "      <th>1</th>\n",
       "      <td>1</td>\n",
       "      <td>De Silveren Spiegel</td>\n",
       "      <td>Amsterdam</td>\n",
       "      <td>['Dutch', 'European', 'Vegetarian Friendly', '...</td>\n",
       "      <td>2.0</td>\n",
       "      <td>4.5</td>\n",
       "      <td>$$$$</td>\n",
       "      <td>812.0</td>\n",
       "      <td>[['Great food and staff', 'just perfect'], ['0...</td>\n",
       "      <td>/Restaurant_Review-g188590-d693419-Reviews-De_...</td>\n",
       "      <td>d693419</td>\n",
       "    </tr>\n",
       "    <tr>\n",
       "      <th>2</th>\n",
       "      <td>2</td>\n",
       "      <td>La Rive</td>\n",
       "      <td>Amsterdam</td>\n",
       "      <td>['Mediterranean', 'French', 'International', '...</td>\n",
       "      <td>3.0</td>\n",
       "      <td>4.5</td>\n",
       "      <td>$$$$</td>\n",
       "      <td>567.0</td>\n",
       "      <td>[['Satisfaction', 'Delicious old school restau...</td>\n",
       "      <td>/Restaurant_Review-g188590-d696959-Reviews-La_...</td>\n",
       "      <td>d696959</td>\n",
       "    </tr>\n",
       "    <tr>\n",
       "      <th>3</th>\n",
       "      <td>3</td>\n",
       "      <td>Vinkeles</td>\n",
       "      <td>Amsterdam</td>\n",
       "      <td>['French', 'European', 'International', 'Conte...</td>\n",
       "      <td>4.0</td>\n",
       "      <td>5.0</td>\n",
       "      <td>$$$$</td>\n",
       "      <td>564.0</td>\n",
       "      <td>[['True five star dinner', 'A superb evening o...</td>\n",
       "      <td>/Restaurant_Review-g188590-d1239229-Reviews-Vi...</td>\n",
       "      <td>d1239229</td>\n",
       "    </tr>\n",
       "    <tr>\n",
       "      <th>4</th>\n",
       "      <td>4</td>\n",
       "      <td>Librije's Zusje Amsterdam</td>\n",
       "      <td>Amsterdam</td>\n",
       "      <td>['Dutch', 'European', 'International', 'Vegeta...</td>\n",
       "      <td>5.0</td>\n",
       "      <td>4.5</td>\n",
       "      <td>$$$$</td>\n",
       "      <td>316.0</td>\n",
       "      <td>[['Best meal.... EVER', 'super food experience...</td>\n",
       "      <td>/Restaurant_Review-g188590-d6864170-Reviews-Li...</td>\n",
       "      <td>d6864170</td>\n",
       "    </tr>\n",
       "  </tbody>\n",
       "</table>\n",
       "</div>"
      ],
      "text/plain": [
       "   Unnamed: 0                        Name       City  \\\n",
       "0           0  Martine of Martine's Table  Amsterdam   \n",
       "1           1         De Silveren Spiegel  Amsterdam   \n",
       "2           2                     La Rive  Amsterdam   \n",
       "3           3                    Vinkeles  Amsterdam   \n",
       "4           4   Librije's Zusje Amsterdam  Amsterdam   \n",
       "\n",
       "                                       Cuisine Style  Ranking  Rating  \\\n",
       "0                    ['French', 'Dutch', 'European']      1.0     5.0   \n",
       "1  ['Dutch', 'European', 'Vegetarian Friendly', '...      2.0     4.5   \n",
       "2  ['Mediterranean', 'French', 'International', '...      3.0     4.5   \n",
       "3  ['French', 'European', 'International', 'Conte...      4.0     5.0   \n",
       "4  ['Dutch', 'European', 'International', 'Vegeta...      5.0     4.5   \n",
       "\n",
       "  Price Range  Number of Reviews  \\\n",
       "0    $$ - $$$              136.0   \n",
       "1        $$$$              812.0   \n",
       "2        $$$$              567.0   \n",
       "3        $$$$              564.0   \n",
       "4        $$$$              316.0   \n",
       "\n",
       "                                             Reviews  \\\n",
       "0  [['Just like home', 'A Warm Welcome to Wintry ...   \n",
       "1  [['Great food and staff', 'just perfect'], ['0...   \n",
       "2  [['Satisfaction', 'Delicious old school restau...   \n",
       "3  [['True five star dinner', 'A superb evening o...   \n",
       "4  [['Best meal.... EVER', 'super food experience...   \n",
       "\n",
       "                                              URL_TA      ID_TA  \n",
       "0  /Restaurant_Review-g188590-d11752080-Reviews-M...  d11752080  \n",
       "1  /Restaurant_Review-g188590-d693419-Reviews-De_...    d693419  \n",
       "2  /Restaurant_Review-g188590-d696959-Reviews-La_...    d696959  \n",
       "3  /Restaurant_Review-g188590-d1239229-Reviews-Vi...   d1239229  \n",
       "4  /Restaurant_Review-g188590-d6864170-Reviews-Li...   d6864170  "
      ]
     },
     "execution_count": 3,
     "metadata": {},
     "output_type": "execute_result"
    }
   ],
   "source": [
    "df.head()"
   ]
  },
  {
   "cell_type": "code",
   "execution_count": 5,
   "metadata": {},
   "outputs": [],
   "source": [
    "missing_values=df.isnull()"
   ]
  },
  {
   "cell_type": "code",
   "execution_count": 6,
   "metadata": {},
   "outputs": [
    {
     "data": {
      "text/html": [
       "<div>\n",
       "<style scoped>\n",
       "    .dataframe tbody tr th:only-of-type {\n",
       "        vertical-align: middle;\n",
       "    }\n",
       "\n",
       "    .dataframe tbody tr th {\n",
       "        vertical-align: top;\n",
       "    }\n",
       "\n",
       "    .dataframe thead th {\n",
       "        text-align: right;\n",
       "    }\n",
       "</style>\n",
       "<table border=\"1\" class=\"dataframe\">\n",
       "  <thead>\n",
       "    <tr style=\"text-align: right;\">\n",
       "      <th></th>\n",
       "      <th>Unnamed: 0</th>\n",
       "      <th>Name</th>\n",
       "      <th>City</th>\n",
       "      <th>Cuisine Style</th>\n",
       "      <th>Ranking</th>\n",
       "      <th>Rating</th>\n",
       "      <th>Price Range</th>\n",
       "      <th>Number of Reviews</th>\n",
       "      <th>Reviews</th>\n",
       "      <th>URL_TA</th>\n",
       "      <th>ID_TA</th>\n",
       "    </tr>\n",
       "  </thead>\n",
       "  <tbody>\n",
       "    <tr>\n",
       "      <th>0</th>\n",
       "      <td>False</td>\n",
       "      <td>False</td>\n",
       "      <td>False</td>\n",
       "      <td>False</td>\n",
       "      <td>False</td>\n",
       "      <td>False</td>\n",
       "      <td>False</td>\n",
       "      <td>False</td>\n",
       "      <td>False</td>\n",
       "      <td>False</td>\n",
       "      <td>False</td>\n",
       "    </tr>\n",
       "    <tr>\n",
       "      <th>1</th>\n",
       "      <td>False</td>\n",
       "      <td>False</td>\n",
       "      <td>False</td>\n",
       "      <td>False</td>\n",
       "      <td>False</td>\n",
       "      <td>False</td>\n",
       "      <td>False</td>\n",
       "      <td>False</td>\n",
       "      <td>False</td>\n",
       "      <td>False</td>\n",
       "      <td>False</td>\n",
       "    </tr>\n",
       "    <tr>\n",
       "      <th>2</th>\n",
       "      <td>False</td>\n",
       "      <td>False</td>\n",
       "      <td>False</td>\n",
       "      <td>False</td>\n",
       "      <td>False</td>\n",
       "      <td>False</td>\n",
       "      <td>False</td>\n",
       "      <td>False</td>\n",
       "      <td>False</td>\n",
       "      <td>False</td>\n",
       "      <td>False</td>\n",
       "    </tr>\n",
       "    <tr>\n",
       "      <th>3</th>\n",
       "      <td>False</td>\n",
       "      <td>False</td>\n",
       "      <td>False</td>\n",
       "      <td>False</td>\n",
       "      <td>False</td>\n",
       "      <td>False</td>\n",
       "      <td>False</td>\n",
       "      <td>False</td>\n",
       "      <td>False</td>\n",
       "      <td>False</td>\n",
       "      <td>False</td>\n",
       "    </tr>\n",
       "    <tr>\n",
       "      <th>4</th>\n",
       "      <td>False</td>\n",
       "      <td>False</td>\n",
       "      <td>False</td>\n",
       "      <td>False</td>\n",
       "      <td>False</td>\n",
       "      <td>False</td>\n",
       "      <td>False</td>\n",
       "      <td>False</td>\n",
       "      <td>False</td>\n",
       "      <td>False</td>\n",
       "      <td>False</td>\n",
       "    </tr>\n",
       "    <tr>\n",
       "      <th>...</th>\n",
       "      <td>...</td>\n",
       "      <td>...</td>\n",
       "      <td>...</td>\n",
       "      <td>...</td>\n",
       "      <td>...</td>\n",
       "      <td>...</td>\n",
       "      <td>...</td>\n",
       "      <td>...</td>\n",
       "      <td>...</td>\n",
       "      <td>...</td>\n",
       "      <td>...</td>\n",
       "    </tr>\n",
       "    <tr>\n",
       "      <th>125522</th>\n",
       "      <td>False</td>\n",
       "      <td>False</td>\n",
       "      <td>False</td>\n",
       "      <td>True</td>\n",
       "      <td>True</td>\n",
       "      <td>True</td>\n",
       "      <td>True</td>\n",
       "      <td>True</td>\n",
       "      <td>True</td>\n",
       "      <td>False</td>\n",
       "      <td>False</td>\n",
       "    </tr>\n",
       "    <tr>\n",
       "      <th>125523</th>\n",
       "      <td>False</td>\n",
       "      <td>False</td>\n",
       "      <td>False</td>\n",
       "      <td>False</td>\n",
       "      <td>True</td>\n",
       "      <td>True</td>\n",
       "      <td>True</td>\n",
       "      <td>True</td>\n",
       "      <td>True</td>\n",
       "      <td>False</td>\n",
       "      <td>False</td>\n",
       "    </tr>\n",
       "    <tr>\n",
       "      <th>125524</th>\n",
       "      <td>False</td>\n",
       "      <td>False</td>\n",
       "      <td>False</td>\n",
       "      <td>True</td>\n",
       "      <td>True</td>\n",
       "      <td>True</td>\n",
       "      <td>True</td>\n",
       "      <td>True</td>\n",
       "      <td>True</td>\n",
       "      <td>False</td>\n",
       "      <td>False</td>\n",
       "    </tr>\n",
       "    <tr>\n",
       "      <th>125525</th>\n",
       "      <td>False</td>\n",
       "      <td>False</td>\n",
       "      <td>False</td>\n",
       "      <td>False</td>\n",
       "      <td>True</td>\n",
       "      <td>True</td>\n",
       "      <td>True</td>\n",
       "      <td>True</td>\n",
       "      <td>True</td>\n",
       "      <td>False</td>\n",
       "      <td>False</td>\n",
       "    </tr>\n",
       "    <tr>\n",
       "      <th>125526</th>\n",
       "      <td>False</td>\n",
       "      <td>False</td>\n",
       "      <td>False</td>\n",
       "      <td>False</td>\n",
       "      <td>True</td>\n",
       "      <td>True</td>\n",
       "      <td>False</td>\n",
       "      <td>True</td>\n",
       "      <td>True</td>\n",
       "      <td>False</td>\n",
       "      <td>False</td>\n",
       "    </tr>\n",
       "  </tbody>\n",
       "</table>\n",
       "<p>125527 rows × 11 columns</p>\n",
       "</div>"
      ],
      "text/plain": [
       "        Unnamed: 0   Name   City  Cuisine Style  Ranking  Rating  Price Range  \\\n",
       "0            False  False  False          False    False   False        False   \n",
       "1            False  False  False          False    False   False        False   \n",
       "2            False  False  False          False    False   False        False   \n",
       "3            False  False  False          False    False   False        False   \n",
       "4            False  False  False          False    False   False        False   \n",
       "...            ...    ...    ...            ...      ...     ...          ...   \n",
       "125522       False  False  False           True     True    True         True   \n",
       "125523       False  False  False          False     True    True         True   \n",
       "125524       False  False  False           True     True    True         True   \n",
       "125525       False  False  False          False     True    True         True   \n",
       "125526       False  False  False          False     True    True        False   \n",
       "\n",
       "        Number of Reviews  Reviews  URL_TA  ID_TA  \n",
       "0                   False    False   False  False  \n",
       "1                   False    False   False  False  \n",
       "2                   False    False   False  False  \n",
       "3                   False    False   False  False  \n",
       "4                   False    False   False  False  \n",
       "...                   ...      ...     ...    ...  \n",
       "125522               True     True   False  False  \n",
       "125523               True     True   False  False  \n",
       "125524               True     True   False  False  \n",
       "125525               True     True   False  False  \n",
       "125526               True     True   False  False  \n",
       "\n",
       "[125527 rows x 11 columns]"
      ]
     },
     "execution_count": 6,
     "metadata": {},
     "output_type": "execute_result"
    }
   ],
   "source": [
    "missing_values"
   ]
  },
  {
   "cell_type": "code",
   "execution_count": 7,
   "metadata": {},
   "outputs": [
    {
     "data": {
      "text/plain": [
       "Index(['Unnamed: 0', 'Name', 'City', 'Cuisine Style', 'Ranking', 'Rating',\n",
       "       'Price Range', 'Number of Reviews', 'Reviews', 'URL_TA', 'ID_TA'],\n",
       "      dtype='object')"
      ]
     },
     "execution_count": 7,
     "metadata": {},
     "output_type": "execute_result"
    }
   ],
   "source": [
    "df.columns"
   ]
  },
  {
   "cell_type": "code",
   "execution_count": 8,
   "metadata": {},
   "outputs": [
    {
     "data": {
      "text/plain": [
       "Unnamed: 0               0\n",
       "Name                     0\n",
       "City                     0\n",
       "Cuisine Style        31351\n",
       "Ranking               9651\n",
       "Rating                9630\n",
       "Price Range          47855\n",
       "Number of Reviews    17344\n",
       "Reviews               9616\n",
       "URL_TA                   0\n",
       "ID_TA                    0\n",
       "dtype: int64"
      ]
     },
     "execution_count": 8,
     "metadata": {},
     "output_type": "execute_result"
    }
   ],
   "source": [
    "missing_values.sum()"
   ]
  },
  {
   "cell_type": "code",
   "execution_count": 9,
   "metadata": {},
   "outputs": [],
   "source": [
    "df.replace('?',np.nan,inplace=True)"
   ]
  },
  {
   "cell_type": "code",
   "execution_count": 10,
   "metadata": {},
   "outputs": [],
   "source": [
    "import numpy as np\n",
    "import pandas as pd"
   ]
  },
  {
   "cell_type": "code",
   "execution_count": 11,
   "metadata": {},
   "outputs": [],
   "source": [
    "avg=df['Ranking'].mean()"
   ]
  },
  {
   "cell_type": "code",
   "execution_count": 12,
   "metadata": {},
   "outputs": [
    {
     "data": {
      "text/plain": [
       "3657.46397873589"
      ]
     },
     "execution_count": 12,
     "metadata": {},
     "output_type": "execute_result"
    }
   ],
   "source": [
    "avg"
   ]
  },
  {
   "cell_type": "code",
   "execution_count": 13,
   "metadata": {},
   "outputs": [
    {
     "data": {
      "text/plain": [
       "9651"
      ]
     },
     "execution_count": 13,
     "metadata": {},
     "output_type": "execute_result"
    }
   ],
   "source": [
    "\n",
    "df['Ranking'].isnull().sum()"
   ]
  },
  {
   "cell_type": "code",
   "execution_count": 14,
   "metadata": {},
   "outputs": [],
   "source": [
    "df['Ranking'].replace(np.nan,avg,inplace=True)"
   ]
  },
  {
   "cell_type": "code",
   "execution_count": 15,
   "metadata": {},
   "outputs": [
    {
     "data": {
      "text/plain": [
       "0"
      ]
     },
     "execution_count": 15,
     "metadata": {},
     "output_type": "execute_result"
    }
   ],
   "source": [
    "df['Ranking'].isnull().sum()"
   ]
  },
  {
   "cell_type": "code",
   "execution_count": 16,
   "metadata": {},
   "outputs": [
    {
     "data": {
      "text/plain": [
       "9630"
      ]
     },
     "execution_count": 16,
     "metadata": {},
     "output_type": "execute_result"
    }
   ],
   "source": [
    "df['Rating'].isnull().sum()"
   ]
  },
  {
   "cell_type": "code",
   "execution_count": 17,
   "metadata": {},
   "outputs": [],
   "source": [
    "maxi=df['Rating'].value_counts().idxmax()"
   ]
  },
  {
   "cell_type": "code",
   "execution_count": 18,
   "metadata": {},
   "outputs": [],
   "source": [
    "df['Rating'].replace(np.nan,maxi,inplace=True)"
   ]
  },
  {
   "cell_type": "code",
   "execution_count": 19,
   "metadata": {},
   "outputs": [
    {
     "data": {
      "text/plain": [
       "0"
      ]
     },
     "execution_count": 19,
     "metadata": {},
     "output_type": "execute_result"
    }
   ],
   "source": [
    "df['Rating'].isnull().sum()"
   ]
  },
  {
   "cell_type": "code",
   "execution_count": 20,
   "metadata": {},
   "outputs": [
    {
     "data": {
      "text/plain": [
       "17344"
      ]
     },
     "execution_count": 20,
     "metadata": {},
     "output_type": "execute_result"
    }
   ],
   "source": [
    "df['Number of Reviews'].isnull().sum()"
   ]
  },
  {
   "cell_type": "code",
   "execution_count": 21,
   "metadata": {},
   "outputs": [],
   "source": [
    "avg=df['Number of Reviews'].mean()"
   ]
  },
  {
   "cell_type": "code",
   "execution_count": 22,
   "metadata": {},
   "outputs": [],
   "source": [
    "df['Number of Reviews'].replace(np.nan,avg,inplace=True)"
   ]
  },
  {
   "cell_type": "code",
   "execution_count": 23,
   "metadata": {},
   "outputs": [
    {
     "data": {
      "text/plain": [
       "0"
      ]
     },
     "execution_count": 23,
     "metadata": {},
     "output_type": "execute_result"
    }
   ],
   "source": [
    "df['Number of Reviews'].isnull().sum()"
   ]
  },
  {
   "cell_type": "code",
   "execution_count": 24,
   "metadata": {},
   "outputs": [
    {
     "data": {
      "text/plain": [
       "47855"
      ]
     },
     "execution_count": 24,
     "metadata": {},
     "output_type": "execute_result"
    }
   ],
   "source": [
    "df['Price Range'].isnull().sum()"
   ]
  },
  {
   "cell_type": "code",
   "execution_count": 25,
   "metadata": {},
   "outputs": [],
   "source": [
    "frq=df['Price Range'].value_counts().idxmax()"
   ]
  },
  {
   "cell_type": "code",
   "execution_count": 26,
   "metadata": {},
   "outputs": [],
   "source": [
    "df['Price Range'].replace(np.nan,frq,inplace=True)"
   ]
  },
  {
   "cell_type": "code",
   "execution_count": 27,
   "metadata": {},
   "outputs": [
    {
     "data": {
      "text/plain": [
       "0"
      ]
     },
     "execution_count": 27,
     "metadata": {},
     "output_type": "execute_result"
    }
   ],
   "source": [
    "df['Price Range'].isnull().sum()"
   ]
  },
  {
   "cell_type": "code",
   "execution_count": 28,
   "metadata": {},
   "outputs": [
    {
     "data": {
      "text/plain": [
       "Unnamed: 0               0\n",
       "Name                     0\n",
       "City                     0\n",
       "Cuisine Style        31351\n",
       "Ranking                  0\n",
       "Rating                   0\n",
       "Price Range              0\n",
       "Number of Reviews        0\n",
       "Reviews               9616\n",
       "URL_TA                   0\n",
       "ID_TA                    0\n",
       "dtype: int64"
      ]
     },
     "execution_count": 28,
     "metadata": {},
     "output_type": "execute_result"
    }
   ],
   "source": [
    "df.isnull().sum()"
   ]
  },
  {
   "cell_type": "code",
   "execution_count": 29,
   "metadata": {},
   "outputs": [],
   "source": [
    "frq=df['Reviews'].value_counts().idxmax()\n",
    "df['Reviews'].replace(np.nan,frq,inplace=True)"
   ]
  },
  {
   "cell_type": "code",
   "execution_count": 30,
   "metadata": {},
   "outputs": [],
   "source": [
    "frq=df['Cuisine Style'].value_counts().idxmax()"
   ]
  },
  {
   "cell_type": "code",
   "execution_count": 31,
   "metadata": {},
   "outputs": [],
   "source": [
    "df['Cuisine Style'].replace(np.nan,frq,inplace=True)"
   ]
  },
  {
   "cell_type": "code",
   "execution_count": 32,
   "metadata": {},
   "outputs": [
    {
     "data": {
      "text/plain": [
       "0"
      ]
     },
     "execution_count": 32,
     "metadata": {},
     "output_type": "execute_result"
    }
   ],
   "source": [
    "df['Cuisine Style'].isnull().sum()"
   ]
  },
  {
   "cell_type": "code",
   "execution_count": 33,
   "metadata": {},
   "outputs": [
    {
     "data": {
      "text/plain": [
       "Unnamed: 0           0\n",
       "Name                 0\n",
       "City                 0\n",
       "Cuisine Style        0\n",
       "Ranking              0\n",
       "Rating               0\n",
       "Price Range          0\n",
       "Number of Reviews    0\n",
       "Reviews              0\n",
       "URL_TA               0\n",
       "ID_TA                0\n",
       "dtype: int64"
      ]
     },
     "execution_count": 33,
     "metadata": {},
     "output_type": "execute_result"
    }
   ],
   "source": [
    "df.isnull().sum()"
   ]
  },
  {
   "cell_type": "code",
   "execution_count": 34,
   "metadata": {},
   "outputs": [
    {
     "data": {
      "text/html": [
       "<div>\n",
       "<style scoped>\n",
       "    .dataframe tbody tr th:only-of-type {\n",
       "        vertical-align: middle;\n",
       "    }\n",
       "\n",
       "    .dataframe tbody tr th {\n",
       "        vertical-align: top;\n",
       "    }\n",
       "\n",
       "    .dataframe thead th {\n",
       "        text-align: right;\n",
       "    }\n",
       "</style>\n",
       "<table border=\"1\" class=\"dataframe\">\n",
       "  <thead>\n",
       "    <tr style=\"text-align: right;\">\n",
       "      <th></th>\n",
       "      <th>Cuisine Style</th>\n",
       "      <th>Price Range</th>\n",
       "    </tr>\n",
       "  </thead>\n",
       "  <tbody>\n",
       "    <tr>\n",
       "      <th>0</th>\n",
       "      <td>['French', 'Dutch', 'European']</td>\n",
       "      <td>$$ - $$$</td>\n",
       "    </tr>\n",
       "    <tr>\n",
       "      <th>1</th>\n",
       "      <td>['Dutch', 'European', 'Vegetarian Friendly', '...</td>\n",
       "      <td>$$$$</td>\n",
       "    </tr>\n",
       "    <tr>\n",
       "      <th>2</th>\n",
       "      <td>['Mediterranean', 'French', 'International', '...</td>\n",
       "      <td>$$$$</td>\n",
       "    </tr>\n",
       "    <tr>\n",
       "      <th>3</th>\n",
       "      <td>['French', 'European', 'International', 'Conte...</td>\n",
       "      <td>$$$$</td>\n",
       "    </tr>\n",
       "    <tr>\n",
       "      <th>4</th>\n",
       "      <td>['Dutch', 'European', 'International', 'Vegeta...</td>\n",
       "      <td>$$$$</td>\n",
       "    </tr>\n",
       "    <tr>\n",
       "      <th>...</th>\n",
       "      <td>...</td>\n",
       "      <td>...</td>\n",
       "    </tr>\n",
       "    <tr>\n",
       "      <th>125522</th>\n",
       "      <td>['Italian']</td>\n",
       "      <td>$$ - $$$</td>\n",
       "    </tr>\n",
       "    <tr>\n",
       "      <th>125523</th>\n",
       "      <td>['Cafe']</td>\n",
       "      <td>$$ - $$$</td>\n",
       "    </tr>\n",
       "    <tr>\n",
       "      <th>125524</th>\n",
       "      <td>['Italian']</td>\n",
       "      <td>$$ - $$$</td>\n",
       "    </tr>\n",
       "    <tr>\n",
       "      <th>125525</th>\n",
       "      <td>['Fast Food']</td>\n",
       "      <td>$$ - $$$</td>\n",
       "    </tr>\n",
       "    <tr>\n",
       "      <th>125526</th>\n",
       "      <td>['Italian', 'Pizza', 'Mediterranean', 'Diner']</td>\n",
       "      <td>$$ - $$$</td>\n",
       "    </tr>\n",
       "  </tbody>\n",
       "</table>\n",
       "<p>125527 rows × 2 columns</p>\n",
       "</div>"
      ],
      "text/plain": [
       "                                            Cuisine Style Price Range\n",
       "0                         ['French', 'Dutch', 'European']    $$ - $$$\n",
       "1       ['Dutch', 'European', 'Vegetarian Friendly', '...        $$$$\n",
       "2       ['Mediterranean', 'French', 'International', '...        $$$$\n",
       "3       ['French', 'European', 'International', 'Conte...        $$$$\n",
       "4       ['Dutch', 'European', 'International', 'Vegeta...        $$$$\n",
       "...                                                   ...         ...\n",
       "125522                                        ['Italian']    $$ - $$$\n",
       "125523                                           ['Cafe']    $$ - $$$\n",
       "125524                                        ['Italian']    $$ - $$$\n",
       "125525                                      ['Fast Food']    $$ - $$$\n",
       "125526     ['Italian', 'Pizza', 'Mediterranean', 'Diner']    $$ - $$$\n",
       "\n",
       "[125527 rows x 2 columns]"
      ]
     },
     "execution_count": 34,
     "metadata": {},
     "output_type": "execute_result"
    }
   ],
   "source": [
    "df[['Cuisine Style','Price Range']]"
   ]
  },
  {
   "cell_type": "code",
   "execution_count": 35,
   "metadata": {},
   "outputs": [],
   "source": [
    "df['Ranking']=df['Ranking'].astype(int ,copy=True)"
   ]
  },
  {
   "cell_type": "code",
   "execution_count": 36,
   "metadata": {},
   "outputs": [
    {
     "data": {
      "text/plain": [
       "0            1\n",
       "1            2\n",
       "2            3\n",
       "3            4\n",
       "4            5\n",
       "          ... \n",
       "125522    3657\n",
       "125523    3657\n",
       "125524    3657\n",
       "125525    3657\n",
       "125526    3657\n",
       "Name: Ranking, Length: 125527, dtype: int32"
      ]
     },
     "execution_count": 36,
     "metadata": {},
     "output_type": "execute_result"
    }
   ],
   "source": [
    "df['Ranking']"
   ]
  },
  {
   "cell_type": "code",
   "execution_count": 37,
   "metadata": {},
   "outputs": [],
   "source": [
    "import matplotlib as plt\n",
    "from matplotlib import pyplot"
   ]
  },
  {
   "cell_type": "code",
   "execution_count": 38,
   "metadata": {},
   "outputs": [
    {
     "data": {
      "text/plain": [
       "(array([46159., 25647., 22626., 10378.,  6145.,  3874.,  3289.,  3288.,\n",
       "         2477.,  1644.]),\n",
       " array([1.00000e+00, 1.64530e+03, 3.28960e+03, 4.93390e+03, 6.57820e+03,\n",
       "        8.22250e+03, 9.86680e+03, 1.15111e+04, 1.31554e+04, 1.47997e+04,\n",
       "        1.64440e+04]),\n",
       " <a list of 10 Patch objects>)"
      ]
     },
     "execution_count": 38,
     "metadata": {},
     "output_type": "execute_result"
    },
    {
     "data": {
      "image/png": "[encoded data removed]",
      "text/plain": [
       "<Figure size 432x288 with 1 Axes>"
      ]
     },
     "metadata": {
      "needs_background": "light"
     },
     "output_type": "display_data"
    }
   ],
   "source": [
    "plt.pyplot.xlabel('Ranking')\n",
    "plt.pyplot.ylabel('count')\n",
    "plt.pyplot.title('Ranking Bins')\n",
    "plt.pyplot.hist(df['Ranking'])"
   ]
  },
  {
   "cell_type": "code",
   "execution_count": null,
   "metadata": {},
   "outputs": [],
   "source": []
  },
  {
   "cell_type": "code",
   "execution_count": 80,
   "metadata": {},
   "outputs": [],
   "source": []
  },
  {
   "cell_type": "code",
   "execution_count": 81,
   "metadata": {},
   "outputs": [],
   "source": []
  },
  {
   "cell_type": "code",
   "execution_count": null,
   "metadata": {},
   "outputs": [],
   "source": []
  }
 ],
 "metadata": {
  "kernelspec": {
   "display_name": "Python 3",
   "language": "python",
   "name": "python3"
  },
  "language_info": {
   "codemirror_mode": {
    "name": "ipython",
    "version": 3
   },
   "file_extension": ".py",
   "mimetype": "text/x-python",
   "name": "python",
   "nbconvert_exporter": "python",
   "pygments_lexer": "ipython3",
   "version": "3.7.6"
  }
 },
 "nbformat": 4,
 "nbformat_minor": 4
}
